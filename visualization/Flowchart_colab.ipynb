{
 "cells": [
  {
   "cell_type": "markdown",
   "metadata": {
    "application/vnd.databricks.v1+cell": {
     "cellMetadata": {},
     "inputWidgets": {},
     "nuid": "7d3e5b16-c56d-4f41-80bd-fcb51a33619e",
     "showTitle": false,
     "title": ""
    }
   },
   "source": [
    "# Running Instruction:"
   ]
  },
  {
   "cell_type": "markdown",
   "metadata": {
    "application/vnd.databricks.v1+cell": {
     "cellMetadata": {},
     "inputWidgets": {},
     "nuid": "e8cf1876-2f78-43d8-8f31-8935ad932aa0",
     "showTitle": false,
     "title": ""
    }
   },
   "source": [
    "Just upload the notebook to google colab and run it. \n",
    "\n",
    "This is supposed to be the general layout of the webpage that is displayed to the user in linkedin after he submits the query. We don't have any experience in web development so this took effort even though it's pretty basic, but it shows what we envisioned when we built the project together!"
   ]
  },
  {
   "cell_type": "code",
   "execution_count": 0,
   "metadata": {
    "application/vnd.databricks.v1+cell": {
     "cellMetadata": {},
     "inputWidgets": {},
     "nuid": "b6585464-6f84-4390-a49a-e754af4a385f",
     "showTitle": false,
     "title": ""
    }
   },
   "outputs": [],
   "source": [
    "!pip install --upgrade pip\n",
    "!pip install --upgrade plotly\n",
    "!pip install dash\n",
    "!pip install dash-dangerously-set-inner-html\n",
    "!pip install markdown"
   ]
  },
  {
   "cell_type": "code",
   "execution_count": 0,
   "metadata": {
    "application/vnd.databricks.v1+cell": {
     "cellMetadata": {
      "byteLimit": 2048000,
      "rowLimit": 10000
     },
     "inputWidgets": {},
     "nuid": "2b5afd58-d9d2-4e48-8540-74dd3f7c6c3c",
     "showTitle": false,
     "title": ""
    }
   },
   "outputs": [],
   "source": [
    "import plotly.graph_objs as go\n",
    "import dash\n",
    "import markdown\n",
    "from dash_dangerously_set_inner_html import DangerouslySetInnerHTML\n",
    "from dash import dcc, html, Input, Output"
   ]
  },
  {
   "cell_type": "markdown",
   "metadata": {
    "application/vnd.databricks.v1+cell": {
     "cellMetadata": {},
     "inputWidgets": {},
     "nuid": "26bca250-3817-4931-8d1f-6474e13e75be",
     "showTitle": false,
     "title": ""
    }
   },
   "source": [
    "# Parsing"
   ]
  },
  {
   "cell_type": "code",
   "execution_count": 0,
   "metadata": {
    "application/vnd.databricks.v1+cell": {
     "cellMetadata": {},
     "inputWidgets": {},
     "nuid": "053786c0-73ee-4654-bb38-4e40203520e7",
     "showTitle": false,
     "title": ""
    }
   },
   "outputs": [],
   "source": [
    "def parse_response(text: str):\n",
    "    \"\"\"\n",
    "    Parse the response text and return a list of nodes.\n",
    "\n",
    "    Parameters\n",
    "    ----------\n",
    "    text : str, response text\n",
    "\n",
    "    Returns\n",
    "    -------\n",
    "    nodes : list, nodes in the event flow chart\n",
    "\n",
    "    \"\"\"\n",
    "\n",
    "    nodes = []\n",
    "\n",
    "    html_text = markdown.markdown(text)\n",
    "    step_num = 0\n",
    "    for line in html_text.split(\"<p>\"):\n",
    "        if line == \"\":\n",
    "            continue\n",
    "        line = \"<p>\" + line\n",
    "        title = (line.split(\"</p>\")[0] + \"</p>\").strip(\"\\n\")\n",
    "        info = line.split(\"</p>\")[1].strip(\"\\n\")\n",
    "        if title.lower().find(\"step\") != -1:\n",
    "            nodes.append({\"Title\": title, 'pos': (step_num, 0), \"info\": info})\n",
    "            step_num += 1\n",
    "\n",
    "    return nodes"
   ]
  },
  {
   "cell_type": "markdown",
   "metadata": {
    "application/vnd.databricks.v1+cell": {
     "cellMetadata": {},
     "inputWidgets": {},
     "nuid": "d8c6022d-bcef-4c20-915a-1e944fa5c16c",
     "showTitle": false,
     "title": ""
    }
   },
   "source": [
    "# Plotly Figure"
   ]
  },
  {
   "cell_type": "code",
   "execution_count": 0,
   "metadata": {
    "application/vnd.databricks.v1+cell": {
     "cellMetadata": {
      "byteLimit": 2048000,
      "rowLimit": 10000
     },
     "inputWidgets": {},
     "nuid": "d1a15039-39b1-49f1-859b-fa7cefd76b91",
     "showTitle": false,
     "title": ""
    }
   },
   "outputs": [],
   "source": [
    "def create_figure(nodes, size, flowchart_title):\n",
    "    \"\"\"\n",
    "    Create a basic event flow chart figure using Plotly.\n",
    "\n",
    "    Parameters\n",
    "    ----------\n",
    "    nodes : list, nodes in the event flow chart\n",
    "    size : float, size of the squares\n",
    "\n",
    "    Returns\n",
    "    -------\n",
    "    fig : plotly.graph_objs.Figure, basic event flow chart figure\n",
    "\n",
    "    \"\"\"\n",
    "    # Create the figure\n",
    "    fig = go.FigureWidget()\n",
    "    fig.update_layout(\n",
    "        autosize=False,\n",
    "        width=200 * len(nodes),  # Adjust based on your preference\n",
    "        height=300,  # Adjust to maintain aspect ratio\n",
    "    )\n",
    "\n",
    "    # Offset for arrow start/end points to prevent crossing the square borders\n",
    "    arrow_offset = size * 2  # Adjust this factor based on the size of the square and desired gap\n",
    "\n",
    "    # Add square shapes for each node\n",
    "    for i, details in enumerate(nodes):\n",
    "        fig.add_shape(type=\"rect\",\n",
    "                    x0=details['pos'][0]-size, y0=details['pos'][1]-size,\n",
    "                    x1=details['pos'][0]+size, y1=details['pos'][1]+size,\n",
    "                    line=dict(color=\"Black\"),\n",
    "                    fillcolor=\"LightSkyBlue\")\n",
    "\n",
    "        # Add text annotations in the center of squares\n",
    "        fig.add_annotation(\n",
    "            x=details['pos'][0],\n",
    "            y=details['pos'][1],\n",
    "            text=f\"Step {i + 1}\",  # Node text\n",
    "            showarrow=False,\n",
    "            font=dict(size=10))  # Adjust font size as needed\n",
    "\n",
    "    # Add paths (as arrows)\n",
    "    for i in range(len(nodes) - 1):\n",
    "        # Get start and end positions\n",
    "        start_pos = nodes[i]['pos']\n",
    "        end_pos = nodes[i + 1]['pos']\n",
    "\n",
    "        # Calculate adjusted positions for arrow start (ax, ay) and end (x, y)\n",
    "        ax_adjusted = start_pos[0] + arrow_offset - size  # Start a bit right of the left square border\n",
    "        ay_adjusted = start_pos[1]  # Keep y the same\n",
    "        x_adjusted = end_pos[0] - arrow_offset + size  # End a bit left of the right square border\n",
    "        y_adjusted = end_pos[1]  # Keep y the same\n",
    "\n",
    "        # Add annotation (arrow) with adjusted positions\n",
    "        fig.add_annotation(\n",
    "            x=x_adjusted,  # Adjusted arrowhead position\n",
    "            y=y_adjusted,  # Adjusted arrowhead position\n",
    "            ax=ax_adjusted,  # Adjusted arrow tail position\n",
    "            ay=ay_adjusted,  # Adjusted arrow tail position\n",
    "            xref='x',\n",
    "            yref='y',\n",
    "            axref='x',\n",
    "            ayref='y',\n",
    "            text='',  # No text inside arrow\n",
    "            showarrow=True,\n",
    "            arrowhead=2,  # Arrowhead style\n",
    "            arrowsize=1,  # Arrowhead size\n",
    "            arrowwidth=2,  # Arrowhead width\n",
    "            arrowcolor='black'  # Arrowhead color\n",
    "        )\n",
    "\n",
    "    # Update layout\n",
    "    fig.update_layout(title=flowchart_title,\n",
    "                    showlegend=False)\n",
    "    fig.update_xaxes(range=[0 - size * 2, (len(nodes) - 1) + size * 2],\n",
    "                     showgrid=False, zeroline=False, showticklabels=False)\n",
    "    fig.update_yaxes(range=[-size * 2, size * 2],\n",
    "                     showgrid=False, zeroline=False, showticklabels=False)\n",
    "    return fig"
   ]
  },
  {
   "cell_type": "markdown",
   "metadata": {
    "application/vnd.databricks.v1+cell": {
     "cellMetadata": {},
     "inputWidgets": {},
     "nuid": "baef1183-20b8-4b3c-bf01-1bc662508f22",
     "showTitle": false,
     "title": ""
    }
   },
   "source": [
    "# Dash Interactive App"
   ]
  },
  {
   "cell_type": "code",
   "execution_count": 0,
   "metadata": {
    "application/vnd.databricks.v1+cell": {
     "cellMetadata": {
      "byteLimit": 2048000,
      "rowLimit": 10000
     },
     "inputWidgets": {},
     "nuid": "281a9cbc-2ac6-44cd-afcd-c4a8bb8863e6",
     "showTitle": false,
     "title": ""
    }
   },
   "outputs": [],
   "source": [
    "def create_div(index, node, fig) -> dash.html.Div:\n",
    "\n",
    "    horizontal_padding = 80  # Adjust this value to reduce spread to the sides\n",
    "    vertical_padding = 5  # Adjust this value to raise the overlay higher\n",
    "\n",
    "    overlay_left = ((node['pos'][0] - fig.layout.xaxis.range[0]) / (fig.layout.xaxis.range[1] - fig.layout.xaxis.range[0]))\n",
    "    overlay_left = overlay_left * (fig.layout.width - 2 * horizontal_padding) + horizontal_padding\n",
    "\n",
    "    overlay_top = ((node['pos'][1] - fig.layout.yaxis.range[0]) / (fig.layout.yaxis.range[1] - fig.layout.yaxis.range[0]))\n",
    "    overlay_top = overlay_top * (fig.layout.height - 2 * vertical_padding) + vertical_padding\n",
    "\n",
    "    # Invert y-axis for HTML positioning (CSS top increases downwards)\n",
    "    overlay_top = fig.layout.height - overlay_top + (2 * vertical_padding)\n",
    "\n",
    "    # Convert shape dimensions to pixels\n",
    "    data_width_units = fig.layout.xaxis.range[1] - fig.layout.xaxis.range[0]  # Width of the data in data units\n",
    "    data_height_units = fig.layout.yaxis.range[1] - fig.layout.yaxis.range[0]  # Height of the data in data units\n",
    "\n",
    "    shape_width_units = fig.layout['shapes'][index]['x1'] - fig.layout['shapes'][index]['x0']\n",
    "    shape_height_units = fig.layout['shapes'][index]['y1'] - fig.layout['shapes'][index]['y0']\n",
    "\n",
    "    shape_width_pixels = (shape_width_units / data_width_units) * fig.layout.width - 25\n",
    "    shape_height_pixels = (shape_height_units / data_height_units) * fig.layout.height - 100\n",
    "\n",
    "    div = html.Div(\n",
    "        '',\n",
    "        id=f'node-{index}',\n",
    "        style={\n",
    "            'width': f'{shape_width_pixels}px',\n",
    "            'height': f'{shape_height_pixels}px',\n",
    "            'position': 'absolute',\n",
    "            'top': f'{overlay_top}px',\n",
    "            'left': f'{overlay_left}px',\n",
    "            'background-color': 'rgba(0, 0, 0, 0)',\n",
    "            'padding': '5px',\n",
    "            'cursor': 'pointer',\n",
    "            'transform': 'translate(-50%, -50%)'  # Center the div on the node\n",
    "        }\n",
    "    )\n",
    "\n",
    "    return div"
   ]
  },
  {
   "cell_type": "code",
   "execution_count": 0,
   "metadata": {
    "application/vnd.databricks.v1+cell": {
     "cellMetadata": {
      "byteLimit": 2048000,
      "rowLimit": 10000
     },
     "inputWidgets": {},
     "nuid": "5d6d85a3-6d36-494e-af3b-48b50e4b106e",
     "showTitle": false,
     "title": ""
    }
   },
   "outputs": [],
   "source": [
    "def visualize_flowchart(response_text):\n",
    "    # Nodes of the event flow chart with additional info\n",
    "    nodes = parse_response(text=response_text)\n",
    "\n",
    "    flowchart_title = f\"Career Path for a LinkedIn User in the Field of Data\"\n",
    "\n",
    "    # Create the figure and setup the callback function\n",
    "    fig = create_figure(nodes=nodes, size=0.3, flowchart_title=flowchart_title)\n",
    "\n",
    "    app = dash.Dash(prevent_initial_callbacks=\"initial_duplicate\")\n",
    "\n",
    "    flowchart = dash.dcc.Graph(\n",
    "            id='flowchart-graph',\n",
    "            figure=fig,\n",
    "            style={'width': '100%', 'height': '100%'}\n",
    "        )\n",
    "\n",
    "    additional_data_div = html.Div(\n",
    "            '',\n",
    "            id=f'additional-data',\n",
    "            style={\n",
    "                'position': 'absolute',\n",
    "                'background-color': 'rgba(255, 255, 255, 1)',\n",
    "                'padding': '15px'\n",
    "            }\n",
    "        )\n",
    "\n",
    "    app.layout = html.Div(style={'position': 'relative', 'width': '500px', 'height': '300px', 'cursor': 'default'},\n",
    "    children=[flowchart,*[create_div(index=i, node=node, fig=fig) for i, node in enumerate(nodes)], additional_data_div])\n",
    "\n",
    "    @app.callback(\n",
    "        Output('additional-data', 'children'),\n",
    "        [Input(f'node-{i}', 'n_clicks') for i, _ in enumerate(nodes)]\n",
    "    )\n",
    "    def update_additional_data(*args):\n",
    "        ctx = dash.callback_context\n",
    "        if not ctx.triggered:\n",
    "            # No clicks yet\n",
    "            return \"Click on a step to read its details!\"\n",
    "        else:\n",
    "            # Use callback_context to determine which node was clicked\n",
    "            triggered_id = ctx.triggered[0]['prop_id'].split('.')[0]\n",
    "            node_index = int(triggered_id.split('-')[-1])\n",
    "            return DangerouslySetInnerHTML(nodes[node_index]['Title'] + \"<br>\" + nodes[node_index]['info'])\n",
    "\n",
    "    app.run_server(debug=True, use_reloader=False)"
   ]
  },
  {
   "cell_type": "markdown",
   "metadata": {
    "application/vnd.databricks.v1+cell": {
     "cellMetadata": {},
     "inputWidgets": {},
     "nuid": "c5b2ef16-bba9-4576-ab0f-310027fab404",
     "showTitle": false,
     "title": ""
    }
   },
   "source": [
    "# Visualizations of Example LLM Responses"
   ]
  },
  {
   "cell_type": "markdown",
   "metadata": {
    "application/vnd.databricks.v1+cell": {
     "cellMetadata": {},
     "inputWidgets": {},
     "nuid": "6f76941a-20f7-4a6f-a764-013391eaeb99",
     "showTitle": false,
     "title": ""
    }
   },
   "source": [
    "Good Example:"
   ]
  },
  {
   "cell_type": "code",
   "execution_count": 0,
   "metadata": {
    "application/vnd.databricks.v1+cell": {
     "cellMetadata": {
      "byteLimit": 2048000,
      "rowLimit": 10000
     },
     "inputWidgets": {},
     "nuid": "7a1eb0d5-3db4-4f04-b2c1-f735b19f1585",
     "showTitle": false,
     "title": ""
    }
   },
   "outputs": [],
   "source": [
    "response_text = \"\"\"**Career Path to Become a Machine Learning Engineer at Google, Amazon, or Meta**\n",
    "\n",
    "**Step 1: Obtain a Strong Technical Foundation**\n",
    "\n",
    "* Pursue a bachelor's or master's degree in computer science, engineering, data science, or a related technical field from a reputable university.\n",
    "* Focus on developing a solid understanding of data structures, algorithms, software development, and machine learning principles.\n",
    "* Consider obtaining specialized certifications in cloud computing platforms (e.g., AWS, Google Cloud Platform) to enhance your technical credibility.\n",
    "\n",
    "**Step 2: Gain Experience in Data-Related Roles**\n",
    "\n",
    "* Seek internships or entry-level positions as data scientists, data engineers, or data analysts to gain hands-on experience in data analysis and interpretation.\n",
    "* Work on projects that involve collecting, cleaning, and analyzing large datasets using tools such as Hadoop and Spark.\n",
    "* Develop proficiency in programming languages like Python and R, which are widely used in data science and machine learning.\n",
    "\n",
    "**Step 3: Develop Machine Learning Expertise**\n",
    "\n",
    "* Take online courses or attend workshops to enhance your knowledge of machine learning algorithms, model evaluation, and optimization techniques.\n",
    "* Build a portfolio of personal projects that demonstrate your ability to apply machine learning to solve real-world problems.\n",
    "* Consider pursuing a graduate degree in machine learning or a related field to deepen your understanding and gain specialized knowledge.\n",
    "\n",
    "**Step 4: Acquire Engineering and Development Skills**\n",
    "\n",
    "* Develop strong software engineering skills by working on projects that involve designing, implementing, and testing software solutions.\n",
    "* Gain experience in cloud computing platforms and their applications in various industries.\n",
    "* Learn about agile development methodologies and best practices for software engineering.\n",
    "\n",
    "**Step 5: Build a Network and Seek Mentorship**\n",
    "\n",
    "* Attend industry events and conferences to connect with professionals in the field of machine learning and data science.\n",
    "* Seek mentorship from experienced machine learning engineers at your company or through professional organizations.\n",
    "* Join online communities and forums to engage with other professionals and stay updated on industry trends.\n",
    "\n",
    "**Step 6: Apply for Machine Learning Engineering Roles**\n",
    "\n",
    "* Target companies like Google, Amazon, and Meta that are known for their focus on machine learning and artificial intelligence.\n",
    "* Tailor your resume and cover letter to highlight your technical skills, experience in data-related roles, and passion for machine learning.\n",
    "* Prepare for technical interviews by practicing coding challenges and reviewing machine learning concepts.\n",
    "\n",
    "**Step 7: Continuous Learning and Development**\n",
    "\n",
    "* Stay abreast of the latest advancements in machine learning and data science by attending conferences, reading research papers, and experimenting with new technologies.\n",
    "* Seek opportunities for professional development through online courses, workshops, or certifications.\n",
    "* Engage in side projects or contribute to open-source projects to showcase your skills and stay competitive in the job market.\"\"\""
   ]
  },
  {
   "cell_type": "markdown",
   "metadata": {
    "application/vnd.databricks.v1+cell": {
     "cellMetadata": {},
     "inputWidgets": {},
     "nuid": "e37b7f21-3966-47b0-8db4-14a391fa672f",
     "showTitle": false,
     "title": ""
    }
   },
   "source": [
    "Bad Example:"
   ]
  },
  {
   "cell_type": "code",
   "execution_count": 0,
   "metadata": {
    "application/vnd.databricks.v1+cell": {
     "cellMetadata": {},
     "inputWidgets": {},
     "nuid": "ba5b7d86-6362-42fd-8c72-933e0830dafc",
     "showTitle": false,
     "title": ""
    }
   },
   "outputs": [],
   "source": [
    "response_text = \"\"\"**Career Path for a Healthcare Professional Aspiring to Become a Lumberjack in Construction and Software Development**\n",
    "\n",
    "**Step 1: Obtain a Bachelor's Degree in Construction or Software Development**\n",
    "\n",
    "* Consider pursuing a degree in construction management, software engineering, or a related field.\n",
    "* Explore programs that offer a balance of theoretical knowledge and practical experience.\n",
    "\n",
    "**Step 2: Gain Experience in Construction Management**\n",
    "\n",
    "* Seek internships or entry-level positions in construction companies.\n",
    "* Focus on developing skills in project management, safety, and construction techniques.\n",
    "\n",
    "**Step 3: Develop Software Development Skills**\n",
    "\n",
    "* Enroll in online courses or bootcamps to acquire proficiency in software design, development, and testing.\n",
    "* Build a portfolio of personal projects to demonstrate your abilities.\n",
    "\n",
    "**Step 4: Obtain a Master's Degree in Healthcare Administration**\n",
    "\n",
    "* Consider pursuing a master's degree in healthcare administration to enhance your understanding of the healthcare industry.\n",
    "* This will provide you with a competitive edge in the construction and software development sectors.\n",
    "\n",
    "**Step 5: Seek Leadership Roles**\n",
    "\n",
    "* Take on leadership responsibilities within your current or future roles.\n",
    "* Demonstrate your ability to manage projects, motivate teams, and drive results.\n",
    "\n",
    "**Step 6: Network with Professionals in Construction and Software Development**\n",
    "\n",
    "* Attend industry events and conferences to connect with potential employers.\n",
    "* Join professional organizations and LinkedIn groups to expand your network.\n",
    "\n",
    "**Step 7: Apply for Lumberjack Positions in Construction and Software Development Companies**\n",
    "\n",
    "* Target companies that specialize in construction and software development.\n",
    "* Highlight your unique combination of skills and experience in your resume and cover letter.\n",
    "* Be prepared to demonstrate your passion for both industries and your ability to contribute to their success.\"\"\""
   ]
  },
  {
   "cell_type": "code",
   "execution_count": 0,
   "metadata": {
    "application/vnd.databricks.v1+cell": {
     "cellMetadata": {
      "byteLimit": 2048000,
      "rowLimit": 10000
     },
     "inputWidgets": {},
     "nuid": "da07fe17-18ec-453e-9c66-4fa3faf1d853",
     "showTitle": false,
     "title": ""
    }
   },
   "outputs": [],
   "source": [
    "visualize_flowchart(response_text=response_text)"
   ]
  }
 ],
 "metadata": {
  "application/vnd.databricks.v1+notebook": {
   "dashboards": [],
   "language": "python",
   "notebookMetadata": {
    "pythonIndentUnit": 4
   },
   "notebookName": "Flowchart_colab",
   "widgets": {}
  }
 },
 "nbformat": 4,
 "nbformat_minor": 0
}
